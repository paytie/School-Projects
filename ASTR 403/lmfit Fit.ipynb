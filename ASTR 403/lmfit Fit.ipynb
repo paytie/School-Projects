{
 "cells": [
  {
   "cell_type": "code",
   "execution_count": null,
   "id": "1d59d2b6",
   "metadata": {},
   "outputs": [],
   "source": [
    "from lmfit import *"
   ]
  },
  {
   "cell_type": "code",
   "execution_count": null,
   "id": "beaf7830",
   "metadata": {},
   "outputs": [],
   "source": [
    "truths = (0.3, 0.0, 70)\n",
    "\n",
    "x = np.array(zcmb)\n",
    "np.random.seed(0)\n",
    "y = model_equation(x, *truths)+0.1*np.random.randn(x.size)\n",
    "yerr = np.array(dmb)\n",
    "\n",
    "\n",
    "model = lmfit.Model(model_equation)\n",
    "p = model.make_params()\n",
    "p.add('OM', value=0.5, min=0, max=1)\n",
    "p.add('OL', value=0.5, min=0, max=1)\n",
    "p.add('H0', value=70, min=0, max=1000)\n",
    "print(p)\n",
    "result = model.fit(data=y, params=p, x=x, method='Nelder', nan_policy='omit')\n",
    "\n",
    "report = lmfit.report_fit(result)\n",
    "print(report)\n",
    "result.plot()\n",
    "plt.xscale('log')\n",
    "plt.show()\n",
    "\n",
    "emcee_kws = dict(steps=5000, burn=500, thin=20, is_weighted=False,\n",
    "                 progress=True)\n",
    "emcee_params = model.make_params()\n",
    "emcee_params.add('OM', value=result.params['OM'].value, min=0, max=0.5)\n",
    "emcee_params.add('OL', value=result.params['OL'].value, min=0, max=1)\n",
    "emcee_params.add('H0', value=result.params['H0'].value, min=0, max=1000)\n",
    "emcee_params.add('__lnsigma', value=log10(0.1), min=log10(0.001), max=log10(2.0))\n",
    "\n",
    "result_emcee = model.fit(data=y, x=x, params=emcee_params, method='emcee',\n",
    "                         nan_policy='omit', fit_kws=emcee_kws)\n",
    "\n",
    "emcee_report = lmfit.report_fit(result_emcee)\n",
    "print(emcee_report)\n",
    "\n",
    "result_emcee.plot()\n",
    "plt.xscale('log')\n",
    "plt.show()\n",
    "result_emcee.plot_fit()\n",
    "plt.plot(x, model.eval(params=result.params, x=x), '--', label='emcee')\n",
    "plt.legend()\n",
    "plt.xscale('log')\n",
    "plt.show()\n",
    "\n",
    "emcee_corner = corner.corner(result_emcee.flatchain, labels=result_emcee.var_names,\n",
    "                             truths=list(result_emcee.params.valuesdict().values()))\n",
    "plt.show()"
   ]
  }
 ],
 "metadata": {
  "kernelspec": {
   "display_name": "Python 3 (ipykernel)",
   "language": "python",
   "name": "python3"
  },
  "language_info": {
   "codemirror_mode": {
    "name": "ipython",
    "version": 3
   },
   "file_extension": ".py",
   "mimetype": "text/x-python",
   "name": "python",
   "nbconvert_exporter": "python",
   "pygments_lexer": "ipython3",
   "version": "3.8.12"
  }
 },
 "nbformat": 4,
 "nbformat_minor": 5
}
